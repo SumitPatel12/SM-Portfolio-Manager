{
  "nbformat": 4,
  "nbformat_minor": 0,
  "metadata": {
    "colab": {
      "name": "LSTM.ipynb",
      "provenance": []
    },
    "kernelspec": {
      "name": "python3",
      "display_name": "Python 3"
    }
  },
  "cells": [
    {
      "cell_type": "code",
      "metadata": {
        "id": "aDslh0ubZ0dO",
        "colab_type": "code",
        "colab": {}
      },
      "source": [
        "#Long Short Term Memory"
      ],
      "execution_count": 0,
      "outputs": []
    },
    {
      "cell_type": "code",
      "metadata": {
        "id": "c2Ej2QYJbqSR",
        "colab_type": "code",
        "outputId": "58f4b678-6fd2-4443-cdec-e90aa895f92d",
        "colab": {
          "base_uri": "https://localhost:8080/",
          "height": 71
        }
      },
      "source": [
        "import math\n",
        "import numpy as np\n",
        "import pandas as pd\n",
        "import matplotlib.pyplot as plt\n",
        "import pandas_datareader as web\n",
        "plt.style.use('fivethirtyeight')        "
      ],
      "execution_count": 2,
      "outputs": [
        {
          "output_type": "stream",
          "text": [
            "/usr/local/lib/python3.6/dist-packages/pandas_datareader/compat/__init__.py:7: FutureWarning: pandas.util.testing is deprecated. Use the functions in the public API at pandas.testing instead.\n",
            "  from pandas.util.testing import assert_frame_equal\n"
          ],
          "name": "stderr"
        }
      ]
    },
    {
      "cell_type": "code",
      "metadata": {
        "id": "kQAu9K6lckdn",
        "colab_type": "code",
        "colab": {}
      },
      "source": [
        "#pip install tensorflow"
      ],
      "execution_count": 0,
      "outputs": []
    },
    {
      "cell_type": "code",
      "metadata": {
        "id": "8zKXRN04cBQK",
        "colab_type": "code",
        "outputId": "9b0c6b3a-4fe6-4b6d-a9db-36208ddeb3d8",
        "colab": {
          "base_uri": "https://localhost:8080/",
          "height": 34
        }
      },
      "source": [
        "from sklearn.preprocessing import MinMaxScaler\n",
        "from keras.models import Sequential \n",
        "from keras.layers import Dense, LSTM"
      ],
      "execution_count": 4,
      "outputs": [
        {
          "output_type": "stream",
          "text": [
            "Using TensorFlow backend.\n"
          ],
          "name": "stderr"
        }
      ]
    },
    {
      "cell_type": "code",
      "metadata": {
        "id": "8hL0zIjFcz1F",
        "colab_type": "code",
        "colab": {}
      },
      "source": [
        "#https://towardsdatascience.com/3-ways-to-load-csv-files-into-colab-7c14fcbdcb92"
      ],
      "execution_count": 0,
      "outputs": []
    },
    {
      "cell_type": "code",
      "metadata": {
        "id": "0YBVePx_ktA6",
        "colab_type": "code",
        "outputId": "5e295fd9-4138-42c5-cc2d-9f1cf1438dd2",
        "colab": {
          "base_uri": "https://localhost:8080/",
          "height": 306
        }
      },
      "source": [
        "df = pd.read_csv('https://raw.githubusercontent.com/smeet-kothari/SM-Portfolio-Manager/master/11-04-2018-TO-09-04-2020INFYEQN.csv')\n",
        "\n",
        "df.head()"
      ],
      "execution_count": 6,
      "outputs": [
        {
          "output_type": "execute_result",
          "data": {
            "text/html": [
              "<div>\n",
              "<style scoped>\n",
              "    .dataframe tbody tr th:only-of-type {\n",
              "        vertical-align: middle;\n",
              "    }\n",
              "\n",
              "    .dataframe tbody tr th {\n",
              "        vertical-align: top;\n",
              "    }\n",
              "\n",
              "    .dataframe thead th {\n",
              "        text-align: right;\n",
              "    }\n",
              "</style>\n",
              "<table border=\"1\" class=\"dataframe\">\n",
              "  <thead>\n",
              "    <tr style=\"text-align: right;\">\n",
              "      <th></th>\n",
              "      <th>Symbol</th>\n",
              "      <th>Series</th>\n",
              "      <th>Date</th>\n",
              "      <th>Prev Close</th>\n",
              "      <th>Open Price</th>\n",
              "      <th>High Price</th>\n",
              "      <th>Low Price</th>\n",
              "      <th>Last Price</th>\n",
              "      <th>Close Price</th>\n",
              "      <th>Average Price</th>\n",
              "      <th>Total Traded Quantity</th>\n",
              "      <th>Turnover</th>\n",
              "      <th>No. of Trades</th>\n",
              "      <th>Deliverable Qty</th>\n",
              "      <th>% Dly Qt to Traded Qty</th>\n",
              "    </tr>\n",
              "  </thead>\n",
              "  <tbody>\n",
              "    <tr>\n",
              "      <th>0</th>\n",
              "      <td>INFY</td>\n",
              "      <td>EQ</td>\n",
              "      <td>11-Apr-2018</td>\n",
              "      <td>1113.40</td>\n",
              "      <td>1118.00</td>\n",
              "      <td>1131.50</td>\n",
              "      <td>1116.50</td>\n",
              "      <td>1124.50</td>\n",
              "      <td>1124.25</td>\n",
              "      <td>1124.78</td>\n",
              "      <td>4512787</td>\n",
              "      <td>5.075892e+09</td>\n",
              "      <td>102586</td>\n",
              "      <td>3296304</td>\n",
              "      <td>73.04</td>\n",
              "    </tr>\n",
              "    <tr>\n",
              "      <th>1</th>\n",
              "      <td>INFY</td>\n",
              "      <td>EQ</td>\n",
              "      <td>12-Apr-2018</td>\n",
              "      <td>1124.25</td>\n",
              "      <td>1129.45</td>\n",
              "      <td>1172.75</td>\n",
              "      <td>1125.00</td>\n",
              "      <td>1164.05</td>\n",
              "      <td>1162.60</td>\n",
              "      <td>1157.71</td>\n",
              "      <td>8522183</td>\n",
              "      <td>9.866189e+09</td>\n",
              "      <td>216130</td>\n",
              "      <td>5624945</td>\n",
              "      <td>66.00</td>\n",
              "    </tr>\n",
              "    <tr>\n",
              "      <th>2</th>\n",
              "      <td>INFY</td>\n",
              "      <td>EQ</td>\n",
              "      <td>13-Apr-2018</td>\n",
              "      <td>1162.60</td>\n",
              "      <td>1174.00</td>\n",
              "      <td>1185.90</td>\n",
              "      <td>1150.25</td>\n",
              "      <td>1168.00</td>\n",
              "      <td>1171.45</td>\n",
              "      <td>1172.37</td>\n",
              "      <td>10613519</td>\n",
              "      <td>1.244292e+10</td>\n",
              "      <td>180965</td>\n",
              "      <td>5370870</td>\n",
              "      <td>50.60</td>\n",
              "    </tr>\n",
              "    <tr>\n",
              "      <th>3</th>\n",
              "      <td>INFY</td>\n",
              "      <td>EQ</td>\n",
              "      <td>16-Apr-2018</td>\n",
              "      <td>1171.45</td>\n",
              "      <td>1102.00</td>\n",
              "      <td>1140.00</td>\n",
              "      <td>1102.00</td>\n",
              "      <td>1134.50</td>\n",
              "      <td>1133.20</td>\n",
              "      <td>1125.66</td>\n",
              "      <td>12372542</td>\n",
              "      <td>1.392724e+10</td>\n",
              "      <td>201992</td>\n",
              "      <td>5012390</td>\n",
              "      <td>40.51</td>\n",
              "    </tr>\n",
              "    <tr>\n",
              "      <th>4</th>\n",
              "      <td>INFY</td>\n",
              "      <td>EQ</td>\n",
              "      <td>17-Apr-2018</td>\n",
              "      <td>1133.20</td>\n",
              "      <td>1127.00</td>\n",
              "      <td>1127.40</td>\n",
              "      <td>1115.00</td>\n",
              "      <td>1124.65</td>\n",
              "      <td>1125.20</td>\n",
              "      <td>1121.63</td>\n",
              "      <td>5198970</td>\n",
              "      <td>5.831318e+09</td>\n",
              "      <td>203792</td>\n",
              "      <td>3086531</td>\n",
              "      <td>59.37</td>\n",
              "    </tr>\n",
              "  </tbody>\n",
              "</table>\n",
              "</div>"
            ],
            "text/plain": [
              "  Symbol Series  ... Deliverable Qty  % Dly Qt to Traded Qty\n",
              "0   INFY     EQ  ...         3296304                   73.04\n",
              "1   INFY     EQ  ...         5624945                   66.00\n",
              "2   INFY     EQ  ...         5370870                   50.60\n",
              "3   INFY     EQ  ...         5012390                   40.51\n",
              "4   INFY     EQ  ...         3086531                   59.37\n",
              "\n",
              "[5 rows x 15 columns]"
            ]
          },
          "metadata": {
            "tags": []
          },
          "execution_count": 6
        }
      ]
    },
    {
      "cell_type": "code",
      "metadata": {
        "id": "s6zUo7XnytYJ",
        "colab_type": "code",
        "outputId": "69eda0fd-ff4f-4d71-ba76-cf03ace52f9b",
        "colab": {
          "base_uri": "https://localhost:8080/",
          "height": 204
        }
      },
      "source": [
        "df = df.iloc[ :, 8:9 ]\n",
        "\n",
        "df.head()"
      ],
      "execution_count": 7,
      "outputs": [
        {
          "output_type": "execute_result",
          "data": {
            "text/html": [
              "<div>\n",
              "<style scoped>\n",
              "    .dataframe tbody tr th:only-of-type {\n",
              "        vertical-align: middle;\n",
              "    }\n",
              "\n",
              "    .dataframe tbody tr th {\n",
              "        vertical-align: top;\n",
              "    }\n",
              "\n",
              "    .dataframe thead th {\n",
              "        text-align: right;\n",
              "    }\n",
              "</style>\n",
              "<table border=\"1\" class=\"dataframe\">\n",
              "  <thead>\n",
              "    <tr style=\"text-align: right;\">\n",
              "      <th></th>\n",
              "      <th>Close Price</th>\n",
              "    </tr>\n",
              "  </thead>\n",
              "  <tbody>\n",
              "    <tr>\n",
              "      <th>0</th>\n",
              "      <td>1124.25</td>\n",
              "    </tr>\n",
              "    <tr>\n",
              "      <th>1</th>\n",
              "      <td>1162.60</td>\n",
              "    </tr>\n",
              "    <tr>\n",
              "      <th>2</th>\n",
              "      <td>1171.45</td>\n",
              "    </tr>\n",
              "    <tr>\n",
              "      <th>3</th>\n",
              "      <td>1133.20</td>\n",
              "    </tr>\n",
              "    <tr>\n",
              "      <th>4</th>\n",
              "      <td>1125.20</td>\n",
              "    </tr>\n",
              "  </tbody>\n",
              "</table>\n",
              "</div>"
            ],
            "text/plain": [
              "   Close Price\n",
              "0      1124.25\n",
              "1      1162.60\n",
              "2      1171.45\n",
              "3      1133.20\n",
              "4      1125.20"
            ]
          },
          "metadata": {
            "tags": []
          },
          "execution_count": 7
        }
      ]
    },
    {
      "cell_type": "code",
      "metadata": {
        "id": "R7suTIJ-z13i",
        "colab_type": "code",
        "outputId": "469b2d72-f232-40db-9de2-4479f62a833d",
        "colab": {
          "base_uri": "https://localhost:8080/",
          "height": 102
        }
      },
      "source": [
        "dataset = df.values\n",
        "\n",
        "dataset[ :5 ]"
      ],
      "execution_count": 8,
      "outputs": [
        {
          "output_type": "execute_result",
          "data": {
            "text/plain": [
              "array([[1124.25],\n",
              "       [1162.6 ],\n",
              "       [1171.45],\n",
              "       [1133.2 ],\n",
              "       [1125.2 ]])"
            ]
          },
          "metadata": {
            "tags": []
          },
          "execution_count": 8
        }
      ]
    },
    {
      "cell_type": "code",
      "metadata": {
        "id": "UMTb2JvV0JDw",
        "colab_type": "code",
        "colab": {}
      },
      "source": [
        "#Scaling data\n",
        "scaler = MinMaxScaler(feature_range=(0,1))\n",
        "scaled_data = scaler.fit_transform(dataset)"
      ],
      "execution_count": 0,
      "outputs": []
    },
    {
      "cell_type": "code",
      "metadata": {
        "id": "cpV4xfus0pXz",
        "colab_type": "code",
        "outputId": "99458aaf-dd77-46c5-cf83-99114cc1bc2d",
        "colab": {
          "base_uri": "https://localhost:8080/",
          "height": 255
        }
      },
      "source": [
        "# Training Dataset\n",
        "training_length = math.ceil(0.8 *len(scaled_data))\n",
        "train_data = scaled_data[ :training_length]\n",
        "#split data into x_train and y_train\n",
        "x_train = []\n",
        "y_train = []\n",
        "\n",
        "for i in range(60,len(train_data)):\n",
        "    x_train.append(train_data[i-60:i,0])\n",
        "    y_train.append(train_data[i,0])\n",
        "    if i<= 60:\n",
        "        print(x_train)\n",
        "        print(y_train)\n",
        "        print()"
      ],
      "execution_count": 10,
      "outputs": [
        {
          "output_type": "stream",
          "text": [
            "[array([0.65358334, 0.69551194, 0.70518778, 0.6633685 , 0.65462199,\n",
            "       0.65544197, 0.66298584, 0.71284098, 0.72295414, 0.6866561 ,\n",
            "       0.69305199, 0.71065435, 0.72022085, 0.73585525, 0.73317662,\n",
            "       0.71732357, 0.70699175, 0.71781556, 0.69873722, 0.70436779,\n",
            "       0.70141584, 0.7153556 , 0.72470344, 0.73044334, 0.72541409,\n",
            "       0.71770623, 0.71803422, 0.71398896, 0.72967802, 0.71989286,\n",
            "       0.7593615 , 0.7673427 , 0.75214563, 0.75466025, 0.74919368,\n",
            "       0.7711693 , 0.75914284, 0.77947849, 0.75919751, 0.77734653,\n",
            "       0.79374624, 0.80205543, 0.80462472, 0.80036079, 0.81818182,\n",
            "       0.77980648, 0.8252337 , 0.81009129, 0.78188378, 0.78357842,\n",
            "       0.78729569, 0.788717  , 0.81561253, 0.82151643, 0.81293391,\n",
            "       0.83436287, 0.8536052 , 0.88367135, 0.90449899, 0.89515115])]\n",
            "[0.8282403105012849]\n",
            "\n"
          ],
          "name": "stdout"
        }
      ]
    },
    {
      "cell_type": "code",
      "metadata": {
        "id": "75FMJ-Sb4lcg",
        "colab_type": "code",
        "outputId": "428061f0-79e0-45a5-b124-f06430af99b5",
        "colab": {
          "base_uri": "https://localhost:8080/",
          "height": 34
        }
      },
      "source": [
        "#x_train and y_train to numpy arrays\n",
        "x_train = np.array(x_train)\n",
        "y_train = np.array(y_train)\n",
        "\n",
        "x_train = np.reshape(x_train, (x_train.shape[0],x_train.shape[1],1) )\n",
        "x_train.shape"
      ],
      "execution_count": 11,
      "outputs": [
        {
          "output_type": "execute_result",
          "data": {
            "text/plain": [
              "(335, 60, 1)"
            ]
          },
          "metadata": {
            "tags": []
          },
          "execution_count": 11
        }
      ]
    },
    {
      "cell_type": "code",
      "metadata": {
        "id": "hPodsykV4y1d",
        "colab_type": "code",
        "colab": {}
      },
      "source": [
        "#LSTM\n",
        "\n",
        "model = Sequential()\n",
        "model.add(LSTM(50, return_sequences=True, input_shape=(x_train.shape[1],x_train.shape[2]) ) )\n",
        "model.add(LSTM(50, return_sequences=False) )\n",
        "model.add(Dense(25))\n",
        "model.add(Dense(1))"
      ],
      "execution_count": 0,
      "outputs": []
    },
    {
      "cell_type": "code",
      "metadata": {
        "id": "_1GnpMSm6mA1",
        "colab_type": "code",
        "colab": {}
      },
      "source": [
        "#Compile the Model\n",
        "\n",
        "model.compile(optimizer='adam', loss='mean_squared_error')"
      ],
      "execution_count": 0,
      "outputs": []
    },
    {
      "cell_type": "code",
      "metadata": {
        "id": "ffNMTjyt7EpN",
        "colab_type": "code",
        "outputId": "96a18161-e69b-4232-e05f-97dfda25e83f",
        "colab": {
          "base_uri": "https://localhost:8080/",
          "height": 68
        }
      },
      "source": [
        "#Train\n",
        "\n",
        "model.fit(x_train,y_train,batch_size=1,epochs=1)"
      ],
      "execution_count": 14,
      "outputs": [
        {
          "output_type": "stream",
          "text": [
            "Epoch 1/1\n",
            "335/335 [==============================] - 14s 41ms/step - loss: 0.0133\n"
          ],
          "name": "stdout"
        },
        {
          "output_type": "execute_result",
          "data": {
            "text/plain": [
              "<keras.callbacks.callbacks.History at 0x7f9382b21400>"
            ]
          },
          "metadata": {
            "tags": []
          },
          "execution_count": 14
        }
      ]
    },
    {
      "cell_type": "code",
      "metadata": {
        "id": "tniqRqg-8HrW",
        "colab_type": "code",
        "colab": {}
      },
      "source": [
        "# Testing Data Set\n",
        "\n",
        "test_data = scaled_data[training_length-60: , : ]"
      ],
      "execution_count": 0,
      "outputs": []
    },
    {
      "cell_type": "code",
      "metadata": {
        "id": "Dx1jDBT29pYm",
        "colab_type": "code",
        "colab": {}
      },
      "source": [
        "#Data Sets\n",
        "x_test = []\n",
        "y_test = dataset[training_length: , : ]\n",
        "\n",
        "for i in range(60,len(test_data)):\n",
        "    x_test.append(test_data[i-60:i, 0])"
      ],
      "execution_count": 0,
      "outputs": []
    },
    {
      "cell_type": "code",
      "metadata": {
        "id": "RA6rU5Y5-4Qf",
        "colab_type": "code",
        "colab": {}
      },
      "source": [
        "x_test = np.array(x_test)"
      ],
      "execution_count": 0,
      "outputs": []
    },
    {
      "cell_type": "code",
      "metadata": {
        "id": "JuhlLwWL--UQ",
        "colab_type": "code",
        "colab": {}
      },
      "source": [
        "#Reshape the dataset\n",
        "\n",
        "x_test = np.reshape(x_test, (x_test.shape[0],x_test.shape[1],1) )"
      ],
      "execution_count": 0,
      "outputs": []
    },
    {
      "cell_type": "code",
      "metadata": {
        "id": "m1vM2soV_X3_",
        "colab_type": "code",
        "colab": {}
      },
      "source": [
        "#Get the model Predicted Value\n",
        "\n",
        "predictions = model.predict(x_test)\n",
        "predictions = scaler.inverse_transform(predictions)"
      ],
      "execution_count": 0,
      "outputs": []
    },
    {
      "cell_type": "code",
      "metadata": {
        "id": "3Rb9pNIX_yzg",
        "colab_type": "code",
        "outputId": "51c634b1-690d-4fba-8470-007b3f58391c",
        "colab": {
          "base_uri": "https://localhost:8080/",
          "height": 34
        }
      },
      "source": [
        "#Root Mean Sqaure error\n",
        "\n",
        "rmse = np.sqrt( np.mean( predictions-y_test)**2 )\n",
        "rmse"
      ],
      "execution_count": 20,
      "outputs": [
        {
          "output_type": "execute_result",
          "data": {
            "text/plain": [
              "0.14492262236926856"
            ]
          },
          "metadata": {
            "tags": []
          },
          "execution_count": 20
        }
      ]
    },
    {
      "cell_type": "code",
      "metadata": {
        "id": "0X9ENPicAvZc",
        "colab_type": "code",
        "outputId": "72c11611-250e-4670-dbac-71e8ab643d53",
        "colab": {
          "base_uri": "https://localhost:8080/",
          "height": 204
        }
      },
      "source": [
        "train = df[ :training_length]\n",
        "valid = df[training_length: ]\n",
        "\n",
        "valid.head()"
      ],
      "execution_count": 21,
      "outputs": [
        {
          "output_type": "execute_result",
          "data": {
            "text/html": [
              "<div>\n",
              "<style scoped>\n",
              "    .dataframe tbody tr th:only-of-type {\n",
              "        vertical-align: middle;\n",
              "    }\n",
              "\n",
              "    .dataframe tbody tr th {\n",
              "        vertical-align: top;\n",
              "    }\n",
              "\n",
              "    .dataframe thead th {\n",
              "        text-align: right;\n",
              "    }\n",
              "</style>\n",
              "<table border=\"1\" class=\"dataframe\">\n",
              "  <thead>\n",
              "    <tr style=\"text-align: right;\">\n",
              "      <th></th>\n",
              "      <th>Close Price</th>\n",
              "    </tr>\n",
              "  </thead>\n",
              "  <tbody>\n",
              "    <tr>\n",
              "      <th>395</th>\n",
              "      <td>713.00</td>\n",
              "    </tr>\n",
              "    <tr>\n",
              "      <th>396</th>\n",
              "      <td>713.25</td>\n",
              "    </tr>\n",
              "    <tr>\n",
              "      <th>397</th>\n",
              "      <td>693.20</td>\n",
              "    </tr>\n",
              "    <tr>\n",
              "      <th>398</th>\n",
              "      <td>698.10</td>\n",
              "    </tr>\n",
              "    <tr>\n",
              "      <th>399</th>\n",
              "      <td>690.60</td>\n",
              "    </tr>\n",
              "  </tbody>\n",
              "</table>\n",
              "</div>"
            ],
            "text/plain": [
              "     Close Price\n",
              "395       713.00\n",
              "396       713.25\n",
              "397       693.20\n",
              "398       698.10\n",
              "399       690.60"
            ]
          },
          "metadata": {
            "tags": []
          },
          "execution_count": 21
        }
      ]
    },
    {
      "cell_type": "code",
      "metadata": {
        "id": "xZHSYpAeC9Jv",
        "colab_type": "code",
        "outputId": "1ef6fcaa-8365-43c8-fdbf-23df13ad1b13",
        "colab": {
          "base_uri": "https://localhost:8080/",
          "height": 54
        }
      },
      "source": [
        "\"\"\"valid.loc['Predictions'] =predictions\n",
        "#Visulization\n",
        "\n",
        "plt.title('Model')\n",
        "plt.xlabel('Date')\n",
        "plt.ylabel('Close Price')\n",
        "plt.plot(train.loc['Close Price'])\n",
        "plt.show(valid.loc[['Close Price' , 'Predictions']])\n",
        "plt.legend(['Train','Val','Predictions'], loc='upper_right' )\"\"\""
      ],
      "execution_count": 22,
      "outputs": [
        {
          "output_type": "execute_result",
          "data": {
            "text/plain": [
              "\"valid.loc['Predictions'] =predictions\\n#Visulization\\n\\nplt.title('Model')\\nplt.xlabel('Date')\\nplt.ylabel('Close Price')\\nplt.plot(train.loc['Close Price'])\\nplt.show(valid.loc[['Close Price' , 'Predictions']])\\nplt.legend(['Train','Val','Predictions'], loc='upper_right' )\""
            ]
          },
          "metadata": {
            "tags": []
          },
          "execution_count": 22
        }
      ]
    },
    {
      "cell_type": "code",
      "metadata": {
        "id": "Z5PDbygp2fAC",
        "colab_type": "code",
        "colab": {}
      },
      "source": [
        "new_df = pd.read_csv('https://raw.githubusercontent.com/smeet-kothari/SM-Portfolio-Manager/master/11-04-2018-TO-09-04-2020INFYEQN.csv')"
      ],
      "execution_count": 0,
      "outputs": []
    },
    {
      "cell_type": "code",
      "metadata": {
        "id": "kULP4I_42fDV",
        "colab_type": "code",
        "colab": {
          "base_uri": "https://localhost:8080/",
          "height": 204
        },
        "outputId": "1e7c66d2-f323-4248-84a1-344274d63d14"
      },
      "source": [
        "new_df = new_df.iloc[ :, 8:9 ]\n",
        "\n",
        "new_df.head()"
      ],
      "execution_count": 24,
      "outputs": [
        {
          "output_type": "execute_result",
          "data": {
            "text/html": [
              "<div>\n",
              "<style scoped>\n",
              "    .dataframe tbody tr th:only-of-type {\n",
              "        vertical-align: middle;\n",
              "    }\n",
              "\n",
              "    .dataframe tbody tr th {\n",
              "        vertical-align: top;\n",
              "    }\n",
              "\n",
              "    .dataframe thead th {\n",
              "        text-align: right;\n",
              "    }\n",
              "</style>\n",
              "<table border=\"1\" class=\"dataframe\">\n",
              "  <thead>\n",
              "    <tr style=\"text-align: right;\">\n",
              "      <th></th>\n",
              "      <th>Close Price</th>\n",
              "    </tr>\n",
              "  </thead>\n",
              "  <tbody>\n",
              "    <tr>\n",
              "      <th>0</th>\n",
              "      <td>1124.25</td>\n",
              "    </tr>\n",
              "    <tr>\n",
              "      <th>1</th>\n",
              "      <td>1162.60</td>\n",
              "    </tr>\n",
              "    <tr>\n",
              "      <th>2</th>\n",
              "      <td>1171.45</td>\n",
              "    </tr>\n",
              "    <tr>\n",
              "      <th>3</th>\n",
              "      <td>1133.20</td>\n",
              "    </tr>\n",
              "    <tr>\n",
              "      <th>4</th>\n",
              "      <td>1125.20</td>\n",
              "    </tr>\n",
              "  </tbody>\n",
              "</table>\n",
              "</div>"
            ],
            "text/plain": [
              "   Close Price\n",
              "0      1124.25\n",
              "1      1162.60\n",
              "2      1171.45\n",
              "3      1133.20\n",
              "4      1125.20"
            ]
          },
          "metadata": {
            "tags": []
          },
          "execution_count": 24
        }
      ]
    },
    {
      "cell_type": "code",
      "metadata": {
        "id": "oI3EWk4n9qyJ",
        "colab_type": "code",
        "colab": {
          "base_uri": "https://localhost:8080/",
          "height": 34
        },
        "outputId": "e5391f28-550f-4261-ee96-412029bc86b3"
      },
      "source": [
        "last_60_days = new_df[-60:].values\n",
        "\n",
        "last_60_days_scaled = scaler.transform(last_60_days)\n",
        "\n",
        "X_test = []\n",
        "X_test.append(last_60_days_scaled)\n",
        "\n",
        "X_test = np.array(x_test)\n",
        "\n",
        "X_test = np.reshape(X_test, (X_test.shape[0],X_test.shape[1],1) )\n",
        "\n",
        "pred_price = model.predict(X_test)\n",
        "pred_price = scaler.inverse_transform(pred_price)\n",
        "\n",
        "print(pred_price[-1])"
      ],
      "execution_count": 26,
      "outputs": [
        {
          "output_type": "stream",
          "text": [
            "[606.9943]\n"
          ],
          "name": "stdout"
        }
      ]
    }
  ]
}