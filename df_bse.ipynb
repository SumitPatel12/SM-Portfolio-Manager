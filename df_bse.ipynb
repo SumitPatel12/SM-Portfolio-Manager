{
 "cells": [
  {
   "cell_type": "markdown",
   "metadata": {},
   "source": [
    "#Data Scraping Using \n",
    "##Moneycontrol\n",
    "##https://www1.nseindia.com/corporates/content/securities_info.htm"
   ]
  },
  {
   "cell_type": "code",
   "execution_count": 5,
   "metadata": {},
   "outputs": [],
   "source": [
    "import pandas as pd "
   ]
  },
  {
   "cell_type": "code",
   "execution_count": 6,
   "metadata": {},
   "outputs": [],
   "source": [
    "def build_df_bse_abrasives():\n",
    "    raw_data=pd.read_html(\"https://www.moneycontrol.com/stocks/marketstats/industry-classification/bse/abrasives.html\")\n",
    "\n",
    "    df_bse_abrasives = raw_data[0] #list to dataframe\n",
    "\n",
    "    df_bse_abrasives[['Company','others']]= df_bse_abrasives['Company Name'].str.split(r\"\\bAdd\\b\",expand=True)\n",
    "    df_bse_abrasives['Company Name']=df_bse_abrasives['Company']\n",
    "\n",
    "    df_bse_abrasives = df_bse_abrasives.iloc[ ::7 , :7: ]\n",
    "\n",
    "    df_bse_abrasives['Category'] = 'Abrasives'\n",
    "    \n",
    "    return df_bse_abrasives"
   ]
  },
  {
   "cell_type": "code",
   "execution_count": 7,
   "metadata": {},
   "outputs": [],
   "source": [
    "def build_bse_aerospace_defence():\n",
    "    raw_data = pd.read_html(\"https://www.moneycontrol.com/stocks/marketstats/industry-classification/bse/aerospace-defence.html\")\n",
    "\n",
    "    df_bse_aerospace_defence = raw_data[0]\n",
    "\n",
    "    df_bse_aerospace_defence[['Company','others']]= df_bse_aerospace_defence['Company Name'].str.split(r\"\\bAdd\\b\",expand=True)\n",
    "    df_bse_aerospace_defence['Company Name']=df_bse_aerospace_defence['Company']\n",
    "    \n",
    "    df_bse_aerospace_defence = df_bse_aerospace_defence.iloc[ ::7, :7:]\n",
    "    \n",
    "    df_bse_aerospace_defence['Category'] = 'Aerospace-defence'\n",
    "    \n",
    "    return df_bse_aerospace_defence"
   ]
  },
  {
   "cell_type": "code",
   "execution_count": 8,
   "metadata": {},
   "outputs": [],
   "source": [
    "def build_bse_df():\n",
    "    df_bse = pd.DataFrame()\n",
    "    df_bse.head()\n",
    "    frames = []\n",
    "\n",
    "    df1 = build_bse_aerospace_defence()\n",
    "    frames.append(df1)\n",
    "    df2 = build_df_bse_abrasives()\n",
    "    frames.append(df2)\n",
    "    \n",
    "    df_bse = pd.concat(frames)\n",
    "\n",
    "    return df_bse"
   ]
  },
  {
   "cell_type": "code",
   "execution_count": 11,
   "metadata": {},
   "outputs": [
    {
     "name": "stdout",
     "output_type": "stream",
     "text": [
      "         Company Name     Open     High      Low  Last Price  Prev Price  \\\n",
      "0   Hindustan Aeron     576.00   594.95   561.00       563.6      547.85   \n",
      "7   TAAL Enterprise     113.00   122.00   111.40       115.0      114.40   \n",
      "14  Taneja Aerospac      17.80    19.55    17.80        19.3       17.80   \n",
      "0       Carborundum     220.00   220.25   216.55       217.0      221.70   \n",
      "7   Grindwell Norto     459.00   459.00   441.40       441.4      460.35   \n",
      "14            Wendt    1999.95  2086.85  1850.00      1853.0     1960.80   \n",
      "\n",
      "    Change           Category  \n",
      "0    15.75  Aerospace-defence  \n",
      "7     0.60  Aerospace-defence  \n",
      "14    1.50  Aerospace-defence  \n",
      "0    -4.70          Abrasives  \n",
      "7   -18.95          Abrasives  \n",
      "14 -107.80          Abrasives  \n"
     ]
    }
   ],
   "source": [
    "df_bse =build_bse_df()\n",
    "\n",
    "print(df_bse)"
   ]
  }
 ],
 "metadata": {
  "kernelspec": {
   "display_name": "Python 3",
   "language": "python",
   "name": "python3"
  },
  "language_info": {
   "codemirror_mode": {
    "name": "ipython",
    "version": 3
   },
   "file_extension": ".py",
   "mimetype": "text/x-python",
   "name": "python",
   "nbconvert_exporter": "python",
   "pygments_lexer": "ipython3",
   "version": "3.7.4"
  }
 },
 "nbformat": 4,
 "nbformat_minor": 4
}
