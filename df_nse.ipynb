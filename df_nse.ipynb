{
 "cells": [
  {
   "cell_type": "markdown",
   "metadata": {},
   "source": [
    "#Data Scraping Using\n",
    "\n",
    "##Moneycontrol\n",
    "\n",
    "##https://www1.nseindia.com/corporates/content/securities_info.htm"
   ]
  },
  {
   "cell_type": "code",
   "execution_count": 1,
   "metadata": {},
   "outputs": [],
   "source": [
    "import pandas as pd"
   ]
  },
  {
   "cell_type": "code",
   "execution_count": 2,
   "metadata": {},
   "outputs": [],
   "source": [
    "def build_df_nse_abrasives():\n",
    "    raw_data=pd.read_html(\"https://www.moneycontrol.com/stocks/marketstats/industry-classification/nse/abrasives.html\")\n",
    "\n",
    "    df_nse_abrasives = raw_data[0] #list to dataframe\n",
    "\n",
    "    df_nse_abrasives[['Company','others']]= df_nse_abrasives['Company Name'].str.split(r\"\\bAdd\\b\",expand=True)\n",
    "    df_nse_abrasives['Company Name']=df_nse_abrasives['Company']\n",
    "\n",
    "    df_nse_abrasives = df_nse_abrasives.iloc[ ::7 , :7: ]\n",
    "\n",
    "    df_nse_abrasives['Category'] = 'Abrasives'\n",
    "    \n",
    "    return df_nse_abrasives"
   ]
  },
  {
   "cell_type": "code",
   "execution_count": 3,
   "metadata": {},
   "outputs": [],
   "source": [
    "def build_nse_aerospace_defence():\n",
    "    raw_data = pd.read_html(\"https://www.moneycontrol.com/stocks/marketstats/industry-classification/nse/aerospace-defence.html\")\n",
    "\n",
    "    df_nse_aerospace_defence = raw_data[0]\n",
    "\n",
    "    df_nse_aerospace_defence[['Company','others']]= df_nse_aerospace_defence['Company Name'].str.split(r\"\\bAdd\\b\",expand=True)\n",
    "    df_nse_aerospace_defence['Company Name']=df_nse_aerospace_defence['Company']\n",
    "    \n",
    "    df_nse_aerospace_defence = df_nse_aerospace_defence.iloc[ ::7, :7:]\n",
    "    \n",
    "    df_nse_aerospace_defence['Category'] = 'Aerospace-defence'\n",
    "    \n",
    "    return df_nse_aerospace_defence"
   ]
  },
  {
   "cell_type": "code",
   "execution_count": 4,
   "metadata": {},
   "outputs": [],
   "source": [
    "def build_nse_df():\n",
    "    df_nse = pd.DataFrame()\n",
    "    frames = []\n",
    "\n",
    "    df1 = build_nse_aerospace_defence()\n",
    "    frames.append(df1)\n",
    "    df2 = build_df_nse_abrasives()\n",
    "    frames.append(df2)\n",
    "    \n",
    "    df_nse = pd.concat(frames)\n",
    "\n",
    "    return df_nse"
   ]
  },
  {
   "cell_type": "code",
   "execution_count": 5,
   "metadata": {},
   "outputs": [
    {
     "name": "stdout",
     "output_type": "stream",
     "text": [
      "         Company Name     Open     High     Low  Last Price  Prev Price  \\\n",
      "0   Hindustan Aeron     585.25   595.00   560.0      563.30      548.25   \n",
      "0       Carborundum     218.15   222.85   215.0      219.30      221.15   \n",
      "7   Grindwell Norto     461.00   461.00   440.0      447.40      459.90   \n",
      "14            Wendt    1989.75  2025.00  1840.0     1868.65     1972.20   \n",
      "\n",
      "    Change           Category  \n",
      "0    15.05  Aerospace-defence  \n",
      "0    -1.85          Abrasives  \n",
      "7   -12.50          Abrasives  \n",
      "14 -103.55          Abrasives  \n"
     ]
    }
   ],
   "source": [
    "df_nse =build_nse_df()\n",
    "\n",
    "print(df_nse)"
   ]
  }
 ],
 "metadata": {
  "kernelspec": {
   "display_name": "Python 3",
   "language": "python",
   "name": "python3"
  },
  "language_info": {
   "codemirror_mode": {
    "name": "ipython",
    "version": 3
   },
   "file_extension": ".py",
   "mimetype": "text/x-python",
   "name": "python",
   "nbconvert_exporter": "python",
   "pygments_lexer": "ipython3",
   "version": "3.7.4"
  }
 },
 "nbformat": 4,
 "nbformat_minor": 4
}
